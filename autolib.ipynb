{
 "cells": [
  {
   "cell_type": "markdown",
   "source": [
    "# Autolib Car - Sharing Project\n",
    "\n",
    "## Hypothesis testing on blue cars and utilib cars and how they vary per postal code."
   ],
   "metadata": {}
  },
  {
   "cell_type": "markdown",
   "source": [
    "## Load in the libraries and Datasets"
   ],
   "metadata": {}
  },
  {
   "cell_type": "code",
   "execution_count": 91,
   "source": [
    "# Libraries\n",
    "import pandas as pd\n",
    "import numpy as np\n",
    "import statistics\n",
    "import matplotlib.pyplot as plt\n",
    "import seaborn as sns"
   ],
   "outputs": [],
   "metadata": {}
  },
  {
   "cell_type": "code",
   "execution_count": 92,
   "source": [
    "# Load in the dataset\n",
    "df = pd.read_csv('/Users/RyanMburu/Documents/DS-Projects/Module I/week-4/dataset.csv')\n",
    "df"
   ],
   "outputs": [
    {
     "output_type": "execute_result",
     "data": {
      "text/html": [
       "<div>\n",
       "<style scoped>\n",
       "    .dataframe tbody tr th:only-of-type {\n",
       "        vertical-align: middle;\n",
       "    }\n",
       "\n",
       "    .dataframe tbody tr th {\n",
       "        vertical-align: top;\n",
       "    }\n",
       "\n",
       "    .dataframe thead th {\n",
       "        text-align: right;\n",
       "    }\n",
       "</style>\n",
       "<table border=\"1\" class=\"dataframe\">\n",
       "  <thead>\n",
       "    <tr style=\"text-align: right;\">\n",
       "      <th></th>\n",
       "      <th>Postal code</th>\n",
       "      <th>date</th>\n",
       "      <th>n_daily_data_points</th>\n",
       "      <th>dayOfWeek</th>\n",
       "      <th>day_type</th>\n",
       "      <th>BlueCars_taken_sum</th>\n",
       "      <th>BlueCars_returned_sum</th>\n",
       "      <th>Utilib_taken_sum</th>\n",
       "      <th>Utilib_returned_sum</th>\n",
       "      <th>Utilib_14_taken_sum</th>\n",
       "      <th>Utilib_14_returned_sum</th>\n",
       "      <th>Slots_freed_sum</th>\n",
       "      <th>Slots_taken_sum</th>\n",
       "    </tr>\n",
       "  </thead>\n",
       "  <tbody>\n",
       "    <tr>\n",
       "      <th>0</th>\n",
       "      <td>75001</td>\n",
       "      <td>1/1/2018</td>\n",
       "      <td>1440</td>\n",
       "      <td>0</td>\n",
       "      <td>weekday</td>\n",
       "      <td>110</td>\n",
       "      <td>103</td>\n",
       "      <td>3</td>\n",
       "      <td>2</td>\n",
       "      <td>10</td>\n",
       "      <td>9</td>\n",
       "      <td>22</td>\n",
       "      <td>20</td>\n",
       "    </tr>\n",
       "    <tr>\n",
       "      <th>1</th>\n",
       "      <td>75001</td>\n",
       "      <td>1/2/2018</td>\n",
       "      <td>1438</td>\n",
       "      <td>1</td>\n",
       "      <td>weekday</td>\n",
       "      <td>98</td>\n",
       "      <td>94</td>\n",
       "      <td>1</td>\n",
       "      <td>1</td>\n",
       "      <td>8</td>\n",
       "      <td>8</td>\n",
       "      <td>23</td>\n",
       "      <td>22</td>\n",
       "    </tr>\n",
       "    <tr>\n",
       "      <th>2</th>\n",
       "      <td>75001</td>\n",
       "      <td>1/3/2018</td>\n",
       "      <td>1439</td>\n",
       "      <td>2</td>\n",
       "      <td>weekday</td>\n",
       "      <td>138</td>\n",
       "      <td>139</td>\n",
       "      <td>0</td>\n",
       "      <td>0</td>\n",
       "      <td>2</td>\n",
       "      <td>2</td>\n",
       "      <td>27</td>\n",
       "      <td>27</td>\n",
       "    </tr>\n",
       "    <tr>\n",
       "      <th>3</th>\n",
       "      <td>75001</td>\n",
       "      <td>1/4/2018</td>\n",
       "      <td>1320</td>\n",
       "      <td>3</td>\n",
       "      <td>weekday</td>\n",
       "      <td>104</td>\n",
       "      <td>104</td>\n",
       "      <td>2</td>\n",
       "      <td>2</td>\n",
       "      <td>9</td>\n",
       "      <td>8</td>\n",
       "      <td>25</td>\n",
       "      <td>21</td>\n",
       "    </tr>\n",
       "    <tr>\n",
       "      <th>4</th>\n",
       "      <td>75001</td>\n",
       "      <td>1/5/2018</td>\n",
       "      <td>1440</td>\n",
       "      <td>4</td>\n",
       "      <td>weekday</td>\n",
       "      <td>114</td>\n",
       "      <td>117</td>\n",
       "      <td>3</td>\n",
       "      <td>3</td>\n",
       "      <td>6</td>\n",
       "      <td>6</td>\n",
       "      <td>18</td>\n",
       "      <td>20</td>\n",
       "    </tr>\n",
       "    <tr>\n",
       "      <th>...</th>\n",
       "      <td>...</td>\n",
       "      <td>...</td>\n",
       "      <td>...</td>\n",
       "      <td>...</td>\n",
       "      <td>...</td>\n",
       "      <td>...</td>\n",
       "      <td>...</td>\n",
       "      <td>...</td>\n",
       "      <td>...</td>\n",
       "      <td>...</td>\n",
       "      <td>...</td>\n",
       "      <td>...</td>\n",
       "      <td>...</td>\n",
       "    </tr>\n",
       "    <tr>\n",
       "      <th>16080</th>\n",
       "      <td>95880</td>\n",
       "      <td>6/15/2018</td>\n",
       "      <td>1440</td>\n",
       "      <td>4</td>\n",
       "      <td>weekday</td>\n",
       "      <td>15</td>\n",
       "      <td>10</td>\n",
       "      <td>0</td>\n",
       "      <td>0</td>\n",
       "      <td>2</td>\n",
       "      <td>3</td>\n",
       "      <td>0</td>\n",
       "      <td>0</td>\n",
       "    </tr>\n",
       "    <tr>\n",
       "      <th>16081</th>\n",
       "      <td>95880</td>\n",
       "      <td>6/16/2018</td>\n",
       "      <td>1440</td>\n",
       "      <td>5</td>\n",
       "      <td>weekend</td>\n",
       "      <td>19</td>\n",
       "      <td>19</td>\n",
       "      <td>0</td>\n",
       "      <td>0</td>\n",
       "      <td>2</td>\n",
       "      <td>1</td>\n",
       "      <td>0</td>\n",
       "      <td>0</td>\n",
       "    </tr>\n",
       "    <tr>\n",
       "      <th>16082</th>\n",
       "      <td>95880</td>\n",
       "      <td>6/17/2018</td>\n",
       "      <td>1440</td>\n",
       "      <td>6</td>\n",
       "      <td>weekend</td>\n",
       "      <td>33</td>\n",
       "      <td>35</td>\n",
       "      <td>1</td>\n",
       "      <td>1</td>\n",
       "      <td>0</td>\n",
       "      <td>0</td>\n",
       "      <td>0</td>\n",
       "      <td>0</td>\n",
       "    </tr>\n",
       "    <tr>\n",
       "      <th>16083</th>\n",
       "      <td>95880</td>\n",
       "      <td>6/18/2018</td>\n",
       "      <td>1440</td>\n",
       "      <td>0</td>\n",
       "      <td>weekday</td>\n",
       "      <td>11</td>\n",
       "      <td>14</td>\n",
       "      <td>3</td>\n",
       "      <td>5</td>\n",
       "      <td>2</td>\n",
       "      <td>2</td>\n",
       "      <td>0</td>\n",
       "      <td>0</td>\n",
       "    </tr>\n",
       "    <tr>\n",
       "      <th>16084</th>\n",
       "      <td>95880</td>\n",
       "      <td>6/19/2018</td>\n",
       "      <td>1370</td>\n",
       "      <td>1</td>\n",
       "      <td>weekday</td>\n",
       "      <td>2</td>\n",
       "      <td>2</td>\n",
       "      <td>2</td>\n",
       "      <td>1</td>\n",
       "      <td>0</td>\n",
       "      <td>0</td>\n",
       "      <td>0</td>\n",
       "      <td>0</td>\n",
       "    </tr>\n",
       "  </tbody>\n",
       "</table>\n",
       "<p>16085 rows × 13 columns</p>\n",
       "</div>"
      ],
      "text/plain": [
       "       Postal code       date  n_daily_data_points  dayOfWeek day_type  \\\n",
       "0            75001   1/1/2018                 1440          0  weekday   \n",
       "1            75001   1/2/2018                 1438          1  weekday   \n",
       "2            75001   1/3/2018                 1439          2  weekday   \n",
       "3            75001   1/4/2018                 1320          3  weekday   \n",
       "4            75001   1/5/2018                 1440          4  weekday   \n",
       "...            ...        ...                  ...        ...      ...   \n",
       "16080        95880  6/15/2018                 1440          4  weekday   \n",
       "16081        95880  6/16/2018                 1440          5  weekend   \n",
       "16082        95880  6/17/2018                 1440          6  weekend   \n",
       "16083        95880  6/18/2018                 1440          0  weekday   \n",
       "16084        95880  6/19/2018                 1370          1  weekday   \n",
       "\n",
       "       BlueCars_taken_sum  BlueCars_returned_sum  Utilib_taken_sum  \\\n",
       "0                     110                    103                 3   \n",
       "1                      98                     94                 1   \n",
       "2                     138                    139                 0   \n",
       "3                     104                    104                 2   \n",
       "4                     114                    117                 3   \n",
       "...                   ...                    ...               ...   \n",
       "16080                  15                     10                 0   \n",
       "16081                  19                     19                 0   \n",
       "16082                  33                     35                 1   \n",
       "16083                  11                     14                 3   \n",
       "16084                   2                      2                 2   \n",
       "\n",
       "       Utilib_returned_sum  Utilib_14_taken_sum  Utilib_14_returned_sum  \\\n",
       "0                        2                   10                       9   \n",
       "1                        1                    8                       8   \n",
       "2                        0                    2                       2   \n",
       "3                        2                    9                       8   \n",
       "4                        3                    6                       6   \n",
       "...                    ...                  ...                     ...   \n",
       "16080                    0                    2                       3   \n",
       "16081                    0                    2                       1   \n",
       "16082                    1                    0                       0   \n",
       "16083                    5                    2                       2   \n",
       "16084                    1                    0                       0   \n",
       "\n",
       "       Slots_freed_sum  Slots_taken_sum  \n",
       "0                   22               20  \n",
       "1                   23               22  \n",
       "2                   27               27  \n",
       "3                   25               21  \n",
       "4                   18               20  \n",
       "...                ...              ...  \n",
       "16080                0                0  \n",
       "16081                0                0  \n",
       "16082                0                0  \n",
       "16083                0                0  \n",
       "16084                0                0  \n",
       "\n",
       "[16085 rows x 13 columns]"
      ]
     },
     "metadata": {},
     "execution_count": 92
    }
   ],
   "metadata": {}
  },
  {
   "cell_type": "code",
   "execution_count": 93,
   "source": [
    "# See datatypes\n",
    "df.dtypes"
   ],
   "outputs": [
    {
     "output_type": "execute_result",
     "data": {
      "text/plain": [
       "Postal code                int64\n",
       "date                      object\n",
       "n_daily_data_points        int64\n",
       "dayOfWeek                  int64\n",
       "day_type                  object\n",
       "BlueCars_taken_sum         int64\n",
       "BlueCars_returned_sum      int64\n",
       "Utilib_taken_sum           int64\n",
       "Utilib_returned_sum        int64\n",
       "Utilib_14_taken_sum        int64\n",
       "Utilib_14_returned_sum     int64\n",
       "Slots_freed_sum            int64\n",
       "Slots_taken_sum            int64\n",
       "dtype: object"
      ]
     },
     "metadata": {},
     "execution_count": 93
    }
   ],
   "metadata": {}
  },
  {
   "cell_type": "code",
   "execution_count": 94,
   "source": [
    "# shape\n",
    "df.shape"
   ],
   "outputs": [
    {
     "output_type": "execute_result",
     "data": {
      "text/plain": [
       "(16085, 13)"
      ]
     },
     "metadata": {},
     "execution_count": 94
    }
   ],
   "metadata": {}
  },
  {
   "cell_type": "markdown",
   "source": [
    "ok so about 16,000 rows to work with.\n",
    "\n",
    "Will make use of samples"
   ],
   "metadata": {}
  },
  {
   "cell_type": "markdown",
   "source": [
    "# Data Cleaning"
   ],
   "metadata": {}
  },
  {
   "cell_type": "markdown",
   "source": [
    "## Data Types"
   ],
   "metadata": {}
  },
  {
   "cell_type": "code",
   "execution_count": 96,
   "source": [
    "# Change date column to datetime\n",
    "\n",
    "df['date'] = pd.to_datetime(df['date'])"
   ],
   "outputs": [],
   "metadata": {}
  },
  {
   "cell_type": "code",
   "execution_count": 97,
   "source": [
    "df.dtypes"
   ],
   "outputs": [
    {
     "output_type": "execute_result",
     "data": {
      "text/plain": [
       "Postal code                        int64\n",
       "date                      datetime64[ns]\n",
       "n_daily_data_points                int64\n",
       "dayOfWeek                          int64\n",
       "day_type                          object\n",
       "BlueCars_taken_sum                 int64\n",
       "BlueCars_returned_sum              int64\n",
       "Utilib_taken_sum                   int64\n",
       "Utilib_returned_sum                int64\n",
       "Utilib_14_taken_sum                int64\n",
       "Utilib_14_returned_sum             int64\n",
       "Slots_freed_sum                    int64\n",
       "Slots_taken_sum                    int64\n",
       "dtype: object"
      ]
     },
     "metadata": {},
     "execution_count": 97
    }
   ],
   "metadata": {}
  },
  {
   "cell_type": "markdown",
   "source": [
    "## Missing Values"
   ],
   "metadata": {}
  },
  {
   "cell_type": "code",
   "execution_count": 98,
   "source": [
    "df.isna().sum()"
   ],
   "outputs": [
    {
     "output_type": "execute_result",
     "data": {
      "text/plain": [
       "Postal code               0\n",
       "date                      0\n",
       "n_daily_data_points       0\n",
       "dayOfWeek                 0\n",
       "day_type                  0\n",
       "BlueCars_taken_sum        0\n",
       "BlueCars_returned_sum     0\n",
       "Utilib_taken_sum          0\n",
       "Utilib_returned_sum       0\n",
       "Utilib_14_taken_sum       0\n",
       "Utilib_14_returned_sum    0\n",
       "Slots_freed_sum           0\n",
       "Slots_taken_sum           0\n",
       "dtype: int64"
      ]
     },
     "metadata": {},
     "execution_count": 98
    }
   ],
   "metadata": {}
  },
  {
   "cell_type": "markdown",
   "source": [
    "There are no missing values"
   ],
   "metadata": {}
  },
  {
   "cell_type": "markdown",
   "source": [
    "## Duplicates"
   ],
   "metadata": {}
  },
  {
   "cell_type": "code",
   "execution_count": 99,
   "source": [
    "df.duplicated().sum()"
   ],
   "outputs": [
    {
     "output_type": "execute_result",
     "data": {
      "text/plain": [
       "0"
      ]
     },
     "metadata": {},
     "execution_count": 99
    }
   ],
   "metadata": {}
  },
  {
   "cell_type": "markdown",
   "source": [
    "The dataset has no duplicates"
   ],
   "metadata": {}
  },
  {
   "cell_type": "markdown",
   "source": [
    "## Column names"
   ],
   "metadata": {}
  },
  {
   "cell_type": "code",
   "execution_count": 100,
   "source": [
    "# rename the columns to be all lower case\n",
    "\n",
    "df.columns = df.columns.str.lower()\n",
    "df.columns"
   ],
   "outputs": [
    {
     "output_type": "execute_result",
     "data": {
      "text/plain": [
       "Index(['postal code', 'date', 'n_daily_data_points', 'dayofweek', 'day_type',\n",
       "       'bluecars_taken_sum', 'bluecars_returned_sum', 'utilib_taken_sum',\n",
       "       'utilib_returned_sum', 'utilib_14_taken_sum', 'utilib_14_returned_sum',\n",
       "       'slots_freed_sum', 'slots_taken_sum'],\n",
       "      dtype='object')"
      ]
     },
     "metadata": {},
     "execution_count": 100
    }
   ],
   "metadata": {}
  },
  {
   "cell_type": "code",
   "execution_count": 101,
   "source": [
    "# remane postal code column\n",
    "df = df.rename({'postal code' : 'postal_code', 'dayofweek' : 'day_of_the_week'}, axis=1)\n",
    "df.columns"
   ],
   "outputs": [
    {
     "output_type": "execute_result",
     "data": {
      "text/plain": [
       "Index(['postal_code', 'date', 'n_daily_data_points', 'day_of_the_week',\n",
       "       'day_type', 'bluecars_taken_sum', 'bluecars_returned_sum',\n",
       "       'utilib_taken_sum', 'utilib_returned_sum', 'utilib_14_taken_sum',\n",
       "       'utilib_14_returned_sum', 'slots_freed_sum', 'slots_taken_sum'],\n",
       "      dtype='object')"
      ]
     },
     "metadata": {},
     "execution_count": 101
    }
   ],
   "metadata": {}
  },
  {
   "cell_type": "markdown",
   "source": [
    "## Dropping columns"
   ],
   "metadata": {}
  },
  {
   "cell_type": "code",
   "execution_count": 102,
   "source": [
    "# Have new dataframe with only useful columns for our analysis\n",
    "df = df[['postal_code', 'date', 'day_type', 'bluecars_taken_sum', 'bluecars_returned_sum']]\n",
    "df"
   ],
   "outputs": [
    {
     "output_type": "execute_result",
     "data": {
      "text/html": [
       "<div>\n",
       "<style scoped>\n",
       "    .dataframe tbody tr th:only-of-type {\n",
       "        vertical-align: middle;\n",
       "    }\n",
       "\n",
       "    .dataframe tbody tr th {\n",
       "        vertical-align: top;\n",
       "    }\n",
       "\n",
       "    .dataframe thead th {\n",
       "        text-align: right;\n",
       "    }\n",
       "</style>\n",
       "<table border=\"1\" class=\"dataframe\">\n",
       "  <thead>\n",
       "    <tr style=\"text-align: right;\">\n",
       "      <th></th>\n",
       "      <th>postal_code</th>\n",
       "      <th>date</th>\n",
       "      <th>day_type</th>\n",
       "      <th>bluecars_taken_sum</th>\n",
       "      <th>bluecars_returned_sum</th>\n",
       "    </tr>\n",
       "  </thead>\n",
       "  <tbody>\n",
       "    <tr>\n",
       "      <th>0</th>\n",
       "      <td>75001</td>\n",
       "      <td>2018-01-01</td>\n",
       "      <td>weekday</td>\n",
       "      <td>110</td>\n",
       "      <td>103</td>\n",
       "    </tr>\n",
       "    <tr>\n",
       "      <th>1</th>\n",
       "      <td>75001</td>\n",
       "      <td>2018-01-02</td>\n",
       "      <td>weekday</td>\n",
       "      <td>98</td>\n",
       "      <td>94</td>\n",
       "    </tr>\n",
       "    <tr>\n",
       "      <th>2</th>\n",
       "      <td>75001</td>\n",
       "      <td>2018-01-03</td>\n",
       "      <td>weekday</td>\n",
       "      <td>138</td>\n",
       "      <td>139</td>\n",
       "    </tr>\n",
       "    <tr>\n",
       "      <th>3</th>\n",
       "      <td>75001</td>\n",
       "      <td>2018-01-04</td>\n",
       "      <td>weekday</td>\n",
       "      <td>104</td>\n",
       "      <td>104</td>\n",
       "    </tr>\n",
       "    <tr>\n",
       "      <th>4</th>\n",
       "      <td>75001</td>\n",
       "      <td>2018-01-05</td>\n",
       "      <td>weekday</td>\n",
       "      <td>114</td>\n",
       "      <td>117</td>\n",
       "    </tr>\n",
       "    <tr>\n",
       "      <th>...</th>\n",
       "      <td>...</td>\n",
       "      <td>...</td>\n",
       "      <td>...</td>\n",
       "      <td>...</td>\n",
       "      <td>...</td>\n",
       "    </tr>\n",
       "    <tr>\n",
       "      <th>16080</th>\n",
       "      <td>95880</td>\n",
       "      <td>2018-06-15</td>\n",
       "      <td>weekday</td>\n",
       "      <td>15</td>\n",
       "      <td>10</td>\n",
       "    </tr>\n",
       "    <tr>\n",
       "      <th>16081</th>\n",
       "      <td>95880</td>\n",
       "      <td>2018-06-16</td>\n",
       "      <td>weekend</td>\n",
       "      <td>19</td>\n",
       "      <td>19</td>\n",
       "    </tr>\n",
       "    <tr>\n",
       "      <th>16082</th>\n",
       "      <td>95880</td>\n",
       "      <td>2018-06-17</td>\n",
       "      <td>weekend</td>\n",
       "      <td>33</td>\n",
       "      <td>35</td>\n",
       "    </tr>\n",
       "    <tr>\n",
       "      <th>16083</th>\n",
       "      <td>95880</td>\n",
       "      <td>2018-06-18</td>\n",
       "      <td>weekday</td>\n",
       "      <td>11</td>\n",
       "      <td>14</td>\n",
       "    </tr>\n",
       "    <tr>\n",
       "      <th>16084</th>\n",
       "      <td>95880</td>\n",
       "      <td>2018-06-19</td>\n",
       "      <td>weekday</td>\n",
       "      <td>2</td>\n",
       "      <td>2</td>\n",
       "    </tr>\n",
       "  </tbody>\n",
       "</table>\n",
       "<p>16085 rows × 5 columns</p>\n",
       "</div>"
      ],
      "text/plain": [
       "       postal_code       date day_type  bluecars_taken_sum  \\\n",
       "0            75001 2018-01-01  weekday                 110   \n",
       "1            75001 2018-01-02  weekday                  98   \n",
       "2            75001 2018-01-03  weekday                 138   \n",
       "3            75001 2018-01-04  weekday                 104   \n",
       "4            75001 2018-01-05  weekday                 114   \n",
       "...            ...        ...      ...                 ...   \n",
       "16080        95880 2018-06-15  weekday                  15   \n",
       "16081        95880 2018-06-16  weekend                  19   \n",
       "16082        95880 2018-06-17  weekend                  33   \n",
       "16083        95880 2018-06-18  weekday                  11   \n",
       "16084        95880 2018-06-19  weekday                   2   \n",
       "\n",
       "       bluecars_returned_sum  \n",
       "0                        103  \n",
       "1                         94  \n",
       "2                        139  \n",
       "3                        104  \n",
       "4                        117  \n",
       "...                      ...  \n",
       "16080                     10  \n",
       "16081                     19  \n",
       "16082                     35  \n",
       "16083                     14  \n",
       "16084                      2  \n",
       "\n",
       "[16085 rows x 5 columns]"
      ]
     },
     "metadata": {},
     "execution_count": 102
    }
   ],
   "metadata": {}
  },
  {
   "cell_type": "markdown",
   "source": [
    "## Filtering our data"
   ],
   "metadata": {}
  },
  {
   "cell_type": "markdown",
   "source": [
    "### Postal codes 75017 and 94203 for analysis"
   ],
   "metadata": {}
  },
  {
   "cell_type": "code",
   "execution_count": 107,
   "source": [
    "# New dataframe with only the intended postal codes for analysis\n",
    "\n",
    "# Will use | (or) operator\n",
    "df_postal = df[(df['postal_code'] == 75020) | (df['postal_code'] == 75017)]\n",
    "df_postal"
   ],
   "outputs": [
    {
     "output_type": "execute_result",
     "data": {
      "text/html": [
       "<div>\n",
       "<style scoped>\n",
       "    .dataframe tbody tr th:only-of-type {\n",
       "        vertical-align: middle;\n",
       "    }\n",
       "\n",
       "    .dataframe tbody tr th {\n",
       "        vertical-align: top;\n",
       "    }\n",
       "\n",
       "    .dataframe thead th {\n",
       "        text-align: right;\n",
       "    }\n",
       "</style>\n",
       "<table border=\"1\" class=\"dataframe\">\n",
       "  <thead>\n",
       "    <tr style=\"text-align: right;\">\n",
       "      <th></th>\n",
       "      <th>postal_code</th>\n",
       "      <th>date</th>\n",
       "      <th>day_type</th>\n",
       "      <th>bluecars_taken_sum</th>\n",
       "      <th>bluecars_returned_sum</th>\n",
       "    </tr>\n",
       "  </thead>\n",
       "  <tbody>\n",
       "    <tr>\n",
       "      <th>2496</th>\n",
       "      <td>75017</td>\n",
       "      <td>2018-01-01</td>\n",
       "      <td>weekday</td>\n",
       "      <td>634</td>\n",
       "      <td>671</td>\n",
       "    </tr>\n",
       "    <tr>\n",
       "      <th>2497</th>\n",
       "      <td>75017</td>\n",
       "      <td>2018-01-02</td>\n",
       "      <td>weekday</td>\n",
       "      <td>548</td>\n",
       "      <td>542</td>\n",
       "    </tr>\n",
       "    <tr>\n",
       "      <th>2498</th>\n",
       "      <td>75017</td>\n",
       "      <td>2018-01-03</td>\n",
       "      <td>weekday</td>\n",
       "      <td>638</td>\n",
       "      <td>616</td>\n",
       "    </tr>\n",
       "    <tr>\n",
       "      <th>2499</th>\n",
       "      <td>75017</td>\n",
       "      <td>2018-01-04</td>\n",
       "      <td>weekday</td>\n",
       "      <td>553</td>\n",
       "      <td>534</td>\n",
       "    </tr>\n",
       "    <tr>\n",
       "      <th>2500</th>\n",
       "      <td>75017</td>\n",
       "      <td>2018-01-05</td>\n",
       "      <td>weekday</td>\n",
       "      <td>705</td>\n",
       "      <td>703</td>\n",
       "    </tr>\n",
       "    <tr>\n",
       "      <th>...</th>\n",
       "      <td>...</td>\n",
       "      <td>...</td>\n",
       "      <td>...</td>\n",
       "      <td>...</td>\n",
       "      <td>...</td>\n",
       "    </tr>\n",
       "    <tr>\n",
       "      <th>3115</th>\n",
       "      <td>75020</td>\n",
       "      <td>2018-06-15</td>\n",
       "      <td>weekday</td>\n",
       "      <td>505</td>\n",
       "      <td>521</td>\n",
       "    </tr>\n",
       "    <tr>\n",
       "      <th>3116</th>\n",
       "      <td>75020</td>\n",
       "      <td>2018-06-16</td>\n",
       "      <td>weekend</td>\n",
       "      <td>670</td>\n",
       "      <td>620</td>\n",
       "    </tr>\n",
       "    <tr>\n",
       "      <th>3117</th>\n",
       "      <td>75020</td>\n",
       "      <td>2018-06-17</td>\n",
       "      <td>weekend</td>\n",
       "      <td>632</td>\n",
       "      <td>676</td>\n",
       "    </tr>\n",
       "    <tr>\n",
       "      <th>3118</th>\n",
       "      <td>75020</td>\n",
       "      <td>2018-06-18</td>\n",
       "      <td>weekday</td>\n",
       "      <td>407</td>\n",
       "      <td>417</td>\n",
       "    </tr>\n",
       "    <tr>\n",
       "      <th>3119</th>\n",
       "      <td>75020</td>\n",
       "      <td>2018-06-19</td>\n",
       "      <td>weekday</td>\n",
       "      <td>39</td>\n",
       "      <td>55</td>\n",
       "    </tr>\n",
       "  </tbody>\n",
       "</table>\n",
       "<p>312 rows × 5 columns</p>\n",
       "</div>"
      ],
      "text/plain": [
       "      postal_code       date day_type  bluecars_taken_sum  \\\n",
       "2496        75017 2018-01-01  weekday                 634   \n",
       "2497        75017 2018-01-02  weekday                 548   \n",
       "2498        75017 2018-01-03  weekday                 638   \n",
       "2499        75017 2018-01-04  weekday                 553   \n",
       "2500        75017 2018-01-05  weekday                 705   \n",
       "...           ...        ...      ...                 ...   \n",
       "3115        75020 2018-06-15  weekday                 505   \n",
       "3116        75020 2018-06-16  weekend                 670   \n",
       "3117        75020 2018-06-17  weekend                 632   \n",
       "3118        75020 2018-06-18  weekday                 407   \n",
       "3119        75020 2018-06-19  weekday                  39   \n",
       "\n",
       "      bluecars_returned_sum  \n",
       "2496                    671  \n",
       "2497                    542  \n",
       "2498                    616  \n",
       "2499                    534  \n",
       "2500                    703  \n",
       "...                     ...  \n",
       "3115                    521  \n",
       "3116                    620  \n",
       "3117                    676  \n",
       "3118                    417  \n",
       "3119                     55  \n",
       "\n",
       "[312 rows x 5 columns]"
      ]
     },
     "metadata": {},
     "execution_count": 107
    }
   ],
   "metadata": {}
  },
  {
   "cell_type": "markdown",
   "source": [
    "### Weekdays only"
   ],
   "metadata": {}
  },
  {
   "cell_type": "code",
   "execution_count": 108,
   "source": [
    "# Filter to have only weekdays\n",
    "df_postal = df_postal[df_postal['day_type'] == 'weekday']\n",
    "df_postal"
   ],
   "outputs": [
    {
     "output_type": "execute_result",
     "data": {
      "text/html": [
       "<div>\n",
       "<style scoped>\n",
       "    .dataframe tbody tr th:only-of-type {\n",
       "        vertical-align: middle;\n",
       "    }\n",
       "\n",
       "    .dataframe tbody tr th {\n",
       "        vertical-align: top;\n",
       "    }\n",
       "\n",
       "    .dataframe thead th {\n",
       "        text-align: right;\n",
       "    }\n",
       "</style>\n",
       "<table border=\"1\" class=\"dataframe\">\n",
       "  <thead>\n",
       "    <tr style=\"text-align: right;\">\n",
       "      <th></th>\n",
       "      <th>postal_code</th>\n",
       "      <th>date</th>\n",
       "      <th>day_type</th>\n",
       "      <th>bluecars_taken_sum</th>\n",
       "      <th>bluecars_returned_sum</th>\n",
       "    </tr>\n",
       "  </thead>\n",
       "  <tbody>\n",
       "    <tr>\n",
       "      <th>2496</th>\n",
       "      <td>75017</td>\n",
       "      <td>2018-01-01</td>\n",
       "      <td>weekday</td>\n",
       "      <td>634</td>\n",
       "      <td>671</td>\n",
       "    </tr>\n",
       "    <tr>\n",
       "      <th>2497</th>\n",
       "      <td>75017</td>\n",
       "      <td>2018-01-02</td>\n",
       "      <td>weekday</td>\n",
       "      <td>548</td>\n",
       "      <td>542</td>\n",
       "    </tr>\n",
       "    <tr>\n",
       "      <th>2498</th>\n",
       "      <td>75017</td>\n",
       "      <td>2018-01-03</td>\n",
       "      <td>weekday</td>\n",
       "      <td>638</td>\n",
       "      <td>616</td>\n",
       "    </tr>\n",
       "    <tr>\n",
       "      <th>2499</th>\n",
       "      <td>75017</td>\n",
       "      <td>2018-01-04</td>\n",
       "      <td>weekday</td>\n",
       "      <td>553</td>\n",
       "      <td>534</td>\n",
       "    </tr>\n",
       "    <tr>\n",
       "      <th>2500</th>\n",
       "      <td>75017</td>\n",
       "      <td>2018-01-05</td>\n",
       "      <td>weekday</td>\n",
       "      <td>705</td>\n",
       "      <td>703</td>\n",
       "    </tr>\n",
       "    <tr>\n",
       "      <th>...</th>\n",
       "      <td>...</td>\n",
       "      <td>...</td>\n",
       "      <td>...</td>\n",
       "      <td>...</td>\n",
       "      <td>...</td>\n",
       "    </tr>\n",
       "    <tr>\n",
       "      <th>3113</th>\n",
       "      <td>75020</td>\n",
       "      <td>2018-06-13</td>\n",
       "      <td>weekday</td>\n",
       "      <td>470</td>\n",
       "      <td>460</td>\n",
       "    </tr>\n",
       "    <tr>\n",
       "      <th>3114</th>\n",
       "      <td>75020</td>\n",
       "      <td>2018-06-14</td>\n",
       "      <td>weekday</td>\n",
       "      <td>452</td>\n",
       "      <td>437</td>\n",
       "    </tr>\n",
       "    <tr>\n",
       "      <th>3115</th>\n",
       "      <td>75020</td>\n",
       "      <td>2018-06-15</td>\n",
       "      <td>weekday</td>\n",
       "      <td>505</td>\n",
       "      <td>521</td>\n",
       "    </tr>\n",
       "    <tr>\n",
       "      <th>3118</th>\n",
       "      <td>75020</td>\n",
       "      <td>2018-06-18</td>\n",
       "      <td>weekday</td>\n",
       "      <td>407</td>\n",
       "      <td>417</td>\n",
       "    </tr>\n",
       "    <tr>\n",
       "      <th>3119</th>\n",
       "      <td>75020</td>\n",
       "      <td>2018-06-19</td>\n",
       "      <td>weekday</td>\n",
       "      <td>39</td>\n",
       "      <td>55</td>\n",
       "    </tr>\n",
       "  </tbody>\n",
       "</table>\n",
       "<p>224 rows × 5 columns</p>\n",
       "</div>"
      ],
      "text/plain": [
       "      postal_code       date day_type  bluecars_taken_sum  \\\n",
       "2496        75017 2018-01-01  weekday                 634   \n",
       "2497        75017 2018-01-02  weekday                 548   \n",
       "2498        75017 2018-01-03  weekday                 638   \n",
       "2499        75017 2018-01-04  weekday                 553   \n",
       "2500        75017 2018-01-05  weekday                 705   \n",
       "...           ...        ...      ...                 ...   \n",
       "3113        75020 2018-06-13  weekday                 470   \n",
       "3114        75020 2018-06-14  weekday                 452   \n",
       "3115        75020 2018-06-15  weekday                 505   \n",
       "3118        75020 2018-06-18  weekday                 407   \n",
       "3119        75020 2018-06-19  weekday                  39   \n",
       "\n",
       "      bluecars_returned_sum  \n",
       "2496                    671  \n",
       "2497                    542  \n",
       "2498                    616  \n",
       "2499                    534  \n",
       "2500                    703  \n",
       "...                     ...  \n",
       "3113                    460  \n",
       "3114                    437  \n",
       "3115                    521  \n",
       "3118                    417  \n",
       "3119                     55  \n",
       "\n",
       "[224 rows x 5 columns]"
      ]
     },
     "metadata": {},
     "execution_count": 108
    }
   ],
   "metadata": {}
  },
  {
   "cell_type": "markdown",
   "source": [
    "## Outliers"
   ],
   "metadata": {}
  },
  {
   "cell_type": "code",
   "execution_count": 110,
   "source": [
    "# Plot for the two postal codes\n",
    "sns.boxplot(x = 'postal_code', y ='bluecars_taken_sum', data= df_postal)"
   ],
   "outputs": [
    {
     "output_type": "execute_result",
     "data": {
      "text/plain": [
       "<AxesSubplot:xlabel='postal_code', ylabel='bluecars_taken_sum'>"
      ]
     },
     "metadata": {},
     "execution_count": 110
    },
    {
     "output_type": "display_data",
     "data": {
      "image/png": "[encoded data removed]",
      "text/plain": [
       "<Figure size 432x288 with 1 Axes>"
      ]
     },
     "metadata": {
      "needs_background": "light"
     }
    }
   ],
   "metadata": {}
  },
  {
   "cell_type": "markdown",
   "source": [
    "There are two outliers in Postal Code 75017 and 3 in postal code 75020\n",
    "\n",
    "So as not to tamper witj the averages, they will not be dropped."
   ],
   "metadata": {}
  },
  {
   "cell_type": "markdown",
   "source": [
    "# Exploratory Data Analysis (EDA)"
   ],
   "metadata": {}
  },
  {
   "cell_type": "markdown",
   "source": [
    "## Univariate Analysis"
   ],
   "metadata": {}
  },
  {
   "cell_type": "markdown",
   "source": [
    "For our population, we will attempt to get\n",
    "1. Central Tendancy\n",
    "2. Dispersion\n",
    "3. Plotting to vizualize the data and observe distributions etc."
   ],
   "metadata": {}
  },
  {
   "cell_type": "markdown",
   "source": [
    "### Central Tendancy"
   ],
   "metadata": {}
  },
  {
   "cell_type": "markdown",
   "source": [
    "#### Mean of Bluecars taken in 75017"
   ],
   "metadata": {}
  },
  {
   "cell_type": "code",
   "execution_count": 112,
   "source": [
    "df[df['postal_code'] == 75017]['bluecars_taken_sum'].mean()"
   ],
   "outputs": [
    {
     "output_type": "execute_result",
     "data": {
      "text/plain": [
       "734.4935897435897"
      ]
     },
     "metadata": {},
     "execution_count": 112
    }
   ],
   "metadata": {}
  },
  {
   "cell_type": "markdown",
   "source": [
    "The population mean of Bluecars taken 75017 is 734.49"
   ],
   "metadata": {}
  },
  {
   "cell_type": "markdown",
   "source": [
    "#### Mean of Bluecars taken in 75020"
   ],
   "metadata": {}
  },
  {
   "cell_type": "code",
   "execution_count": null,
   "source": [],
   "outputs": [],
   "metadata": {}
  }
 ],
 "metadata": {
  "orig_nbformat": 4,
  "language_info": {
   "name": "python",
   "version": "3.8.8",
   "mimetype": "text/x-python",
   "codemirror_mode": {
    "name": "ipython",
    "version": 3
   },
   "pygments_lexer": "ipython3",
   "nbconvert_exporter": "python",
   "file_extension": ".py"
  },
  "kernelspec": {
   "name": "python3",
   "display_name": "Python 3.8.8 64-bit ('base': conda)"
  },
  "interpreter": {
   "hash": "5e33e5004145b98e8222cb2d939e6df70ade89a40d2ac6741c844fb03b1308f9"
  }
 },
 "nbformat": 4,
 "nbformat_minor": 2
}